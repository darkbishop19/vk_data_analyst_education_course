{
 "cells": [
  {
   "cell_type": "markdown",
   "metadata": {},
   "source": [
    "### Работа с данными с помощью Pandas"
   ]
  },
  {
   "cell_type": "markdown",
   "metadata": {},
   "source": [
    "Будем работать с историей заказов одной платформ по доставки еды."
   ]
  },
  {
   "cell_type": "markdown",
   "metadata": {},
   "source": [
    "1).Загрузим исходные данные."
   ]
  },
  {
   "cell_type": "code",
   "execution_count": 1,
   "metadata": {},
   "outputs": [],
   "source": [
    "import pandas as pd\n",
    "import numpy as np"
   ]
  },
  {
   "cell_type": "code",
   "execution_count": 2,
   "metadata": {},
   "outputs": [],
   "source": [
    "df = pd.read_csv('files/orders_history.csv', sep = ',')"
   ]
  },
  {
   "cell_type": "markdown",
   "metadata": {},
   "source": [
    "2).Посмотрим на первые 5 строк файла."
   ]
  },
  {
   "cell_type": "code",
   "execution_count": 3,
   "metadata": {},
   "outputs": [
    {
     "data": {
      "text/html": [
       "<div>\n",
       "<style scoped>\n",
       "    .dataframe tbody tr th:only-of-type {\n",
       "        vertical-align: middle;\n",
       "    }\n",
       "\n",
       "    .dataframe tbody tr th {\n",
       "        vertical-align: top;\n",
       "    }\n",
       "\n",
       "    .dataframe thead th {\n",
       "        text-align: right;\n",
       "    }\n",
       "</style>\n",
       "<table border=\"1\" class=\"dataframe\">\n",
       "  <thead>\n",
       "    <tr style=\"text-align: right;\">\n",
       "      <th></th>\n",
       "      <th>order_date</th>\n",
       "      <th>rider_assigned</th>\n",
       "      <th>food_picked_up</th>\n",
       "      <th>food_delivered</th>\n",
       "      <th>successful_order</th>\n",
       "      <th>failed_order</th>\n",
       "      <th>rider_id</th>\n",
       "      <th>vendor_id</th>\n",
       "      <th>price</th>\n",
       "    </tr>\n",
       "  </thead>\n",
       "  <tbody>\n",
       "    <tr>\n",
       "      <th>47939</th>\n",
       "      <td>2021-07-30 06:55:05</td>\n",
       "      <td>2021-07-30 06:55:38</td>\n",
       "      <td>2021-07-30 07:12:39</td>\n",
       "      <td>2021-07-30 07:21:34</td>\n",
       "      <td>1</td>\n",
       "      <td>0</td>\n",
       "      <td>105cf28f9cdcc006302b83605e9a4d32</td>\n",
       "      <td>915dff0f301281f975d4aac54026a576</td>\n",
       "      <td>1163.0</td>\n",
       "    </tr>\n",
       "    <tr>\n",
       "      <th>47940</th>\n",
       "      <td>2021-07-30 17:01:13</td>\n",
       "      <td>2021-07-30 17:01:23</td>\n",
       "      <td>2021-07-30 17:24:30</td>\n",
       "      <td>2021-07-30 17:27:21</td>\n",
       "      <td>1</td>\n",
       "      <td>0</td>\n",
       "      <td>05d30c6ccb433a5f39b879fcd579f873</td>\n",
       "      <td>40552e31feef1704dcca105f9fb6fef2</td>\n",
       "      <td>492.0</td>\n",
       "    </tr>\n",
       "    <tr>\n",
       "      <th>47941</th>\n",
       "      <td>2021-07-30 16:57:59</td>\n",
       "      <td>2021-07-30 16:59:21</td>\n",
       "      <td>2021-07-30 17:09:21</td>\n",
       "      <td>2021-07-30 17:25:56</td>\n",
       "      <td>1</td>\n",
       "      <td>0</td>\n",
       "      <td>1bf043ad9d32e841e479f739644a224e</td>\n",
       "      <td>460a0d84d9c1d460baf974def0d23117</td>\n",
       "      <td>1595.0</td>\n",
       "    </tr>\n",
       "    <tr>\n",
       "      <th>47942</th>\n",
       "      <td>2021-07-30 11:33:57</td>\n",
       "      <td>2021-07-30 11:34:08</td>\n",
       "      <td>2021-07-30 11:44:22</td>\n",
       "      <td>2021-07-30 11:47:40</td>\n",
       "      <td>1</td>\n",
       "      <td>0</td>\n",
       "      <td>05d30c6ccb433a5f39b879fcd579f873</td>\n",
       "      <td>fc08409966f5f5a27ad9b9846c6fe7e4</td>\n",
       "      <td>558.0</td>\n",
       "    </tr>\n",
       "    <tr>\n",
       "      <th>47943</th>\n",
       "      <td>2021-07-30 17:05:13</td>\n",
       "      <td>2021-07-30 17:05:20</td>\n",
       "      <td>NaN</td>\n",
       "      <td>NaN</td>\n",
       "      <td>0</td>\n",
       "      <td>1</td>\n",
       "      <td>4976acea6c2e2811328dc336c9e96fe3</td>\n",
       "      <td>297d3df24261709ff7cb6f04135e9caf</td>\n",
       "      <td>1447.0</td>\n",
       "    </tr>\n",
       "  </tbody>\n",
       "</table>\n",
       "</div>"
      ],
      "text/plain": [
       "                order_date       rider_assigned       food_picked_up  \\\n",
       "47939  2021-07-30 06:55:05  2021-07-30 06:55:38  2021-07-30 07:12:39   \n",
       "47940  2021-07-30 17:01:13  2021-07-30 17:01:23  2021-07-30 17:24:30   \n",
       "47941  2021-07-30 16:57:59  2021-07-30 16:59:21  2021-07-30 17:09:21   \n",
       "47942  2021-07-30 11:33:57  2021-07-30 11:34:08  2021-07-30 11:44:22   \n",
       "47943  2021-07-30 17:05:13  2021-07-30 17:05:20                  NaN   \n",
       "\n",
       "            food_delivered  successful_order  failed_order  \\\n",
       "47939  2021-07-30 07:21:34                 1             0   \n",
       "47940  2021-07-30 17:27:21                 1             0   \n",
       "47941  2021-07-30 17:25:56                 1             0   \n",
       "47942  2021-07-30 11:47:40                 1             0   \n",
       "47943                  NaN                 0             1   \n",
       "\n",
       "                               rider_id                         vendor_id  \\\n",
       "47939  105cf28f9cdcc006302b83605e9a4d32  915dff0f301281f975d4aac54026a576   \n",
       "47940  05d30c6ccb433a5f39b879fcd579f873  40552e31feef1704dcca105f9fb6fef2   \n",
       "47941  1bf043ad9d32e841e479f739644a224e  460a0d84d9c1d460baf974def0d23117   \n",
       "47942  05d30c6ccb433a5f39b879fcd579f873  fc08409966f5f5a27ad9b9846c6fe7e4   \n",
       "47943  4976acea6c2e2811328dc336c9e96fe3  297d3df24261709ff7cb6f04135e9caf   \n",
       "\n",
       "        price  \n",
       "47939  1163.0  \n",
       "47940   492.0  \n",
       "47941  1595.0  \n",
       "47942   558.0  \n",
       "47943  1447.0  "
      ]
     },
     "execution_count": 3,
     "metadata": {},
     "output_type": "execute_result"
    }
   ],
   "source": [
    "# df.head(2)\n",
    "df.tail()"
   ]
  },
  {
   "cell_type": "markdown",
   "metadata": {},
   "source": [
    "По умолчанию выводится 20 столбцов и 60 строк.\n",
    "Можно изменить, воспользовавшись следующей командой:"
   ]
  },
  {
   "cell_type": "code",
   "execution_count": 4,
   "metadata": {},
   "outputs": [],
   "source": [
    "pd.set_option('display.max_columns', 100)\n",
    "pd.set_option('display.max_rows', 100)"
   ]
  },
  {
   "cell_type": "code",
   "execution_count": 5,
   "metadata": {},
   "outputs": [],
   "source": [
    "# Еще очень полезная опция\n",
    "pd.set_option('display.precision',3)"
   ]
  },
  {
   "cell_type": "markdown",
   "metadata": {},
   "source": [
    "3).Посмотрим на размер данных, названия признаков и их типы."
   ]
  },
  {
   "cell_type": "code",
   "execution_count": 6,
   "metadata": {},
   "outputs": [
    {
     "data": {
      "text/plain": [
       "(47944, 9)"
      ]
     },
     "execution_count": 6,
     "metadata": {},
     "output_type": "execute_result"
    }
   ],
   "source": [
    "#47944 наблюдений и 9 колонок\n",
    "df.shape"
   ]
  },
  {
   "cell_type": "code",
   "execution_count": 7,
   "metadata": {},
   "outputs": [
    {
     "data": {
      "text/plain": [
       "47944"
      ]
     },
     "execution_count": 7,
     "metadata": {},
     "output_type": "execute_result"
    }
   ],
   "source": [
    "df.shape[0]"
   ]
  },
  {
   "cell_type": "code",
   "execution_count": 8,
   "metadata": {},
   "outputs": [
    {
     "data": {
      "text/plain": [
       "Index(['order_date', 'rider_assigned', 'food_picked_up', 'food_delivered',\n",
       "       'successful_order', 'failed_order', 'rider_id', 'vendor_id', 'price'],\n",
       "      dtype='object')"
      ]
     },
     "execution_count": 8,
     "metadata": {},
     "output_type": "execute_result"
    }
   ],
   "source": [
    "df.columns"
   ]
  },
  {
   "cell_type": "markdown",
   "metadata": {},
   "source": [
    "4).Посмотрим общую информацию по датафрейму."
   ]
  },
  {
   "cell_type": "markdown",
   "metadata": {},
   "source": [
    "Для просмотра числовых статистик можно воспользоваться методом *describe*: "
   ]
  },
  {
   "cell_type": "code",
   "execution_count": 9,
   "metadata": {},
   "outputs": [
    {
     "data": {
      "text/html": [
       "<div>\n",
       "<style scoped>\n",
       "    .dataframe tbody tr th:only-of-type {\n",
       "        vertical-align: middle;\n",
       "    }\n",
       "\n",
       "    .dataframe tbody tr th {\n",
       "        vertical-align: top;\n",
       "    }\n",
       "\n",
       "    .dataframe thead th {\n",
       "        text-align: right;\n",
       "    }\n",
       "</style>\n",
       "<table border=\"1\" class=\"dataframe\">\n",
       "  <thead>\n",
       "    <tr style=\"text-align: right;\">\n",
       "      <th></th>\n",
       "      <th>successful_order</th>\n",
       "      <th>failed_order</th>\n",
       "      <th>price</th>\n",
       "    </tr>\n",
       "  </thead>\n",
       "  <tbody>\n",
       "    <tr>\n",
       "      <th>count</th>\n",
       "      <td>47944.000</td>\n",
       "      <td>47944.000</td>\n",
       "      <td>47944.000</td>\n",
       "    </tr>\n",
       "    <tr>\n",
       "      <th>mean</th>\n",
       "      <td>0.964</td>\n",
       "      <td>0.016</td>\n",
       "      <td>957.196</td>\n",
       "    </tr>\n",
       "    <tr>\n",
       "      <th>std</th>\n",
       "      <td>0.187</td>\n",
       "      <td>0.125</td>\n",
       "      <td>427.112</td>\n",
       "    </tr>\n",
       "    <tr>\n",
       "      <th>min</th>\n",
       "      <td>0.000</td>\n",
       "      <td>0.000</td>\n",
       "      <td>223.000</td>\n",
       "    </tr>\n",
       "    <tr>\n",
       "      <th>25%</th>\n",
       "      <td>1.000</td>\n",
       "      <td>0.000</td>\n",
       "      <td>586.000</td>\n",
       "    </tr>\n",
       "    <tr>\n",
       "      <th>50%</th>\n",
       "      <td>1.000</td>\n",
       "      <td>0.000</td>\n",
       "      <td>956.000</td>\n",
       "    </tr>\n",
       "    <tr>\n",
       "      <th>75%</th>\n",
       "      <td>1.000</td>\n",
       "      <td>0.000</td>\n",
       "      <td>1327.000</td>\n",
       "    </tr>\n",
       "    <tr>\n",
       "      <th>max</th>\n",
       "      <td>1.000</td>\n",
       "      <td>1.000</td>\n",
       "      <td>1700.000</td>\n",
       "    </tr>\n",
       "  </tbody>\n",
       "</table>\n",
       "</div>"
      ],
      "text/plain": [
       "       successful_order  failed_order      price\n",
       "count         47944.000     47944.000  47944.000\n",
       "mean              0.964         0.016    957.196\n",
       "std               0.187         0.125    427.112\n",
       "min               0.000         0.000    223.000\n",
       "25%               1.000         0.000    586.000\n",
       "50%               1.000         0.000    956.000\n",
       "75%               1.000         0.000   1327.000\n",
       "max               1.000         1.000   1700.000"
      ]
     },
     "execution_count": 9,
     "metadata": {},
     "output_type": "execute_result"
    }
   ],
   "source": [
    "df.describe()"
   ]
  },
  {
   "cell_type": "code",
   "execution_count": 10,
   "metadata": {},
   "outputs": [
    {
     "data": {
      "text/html": [
       "<div>\n",
       "<style scoped>\n",
       "    .dataframe tbody tr th:only-of-type {\n",
       "        vertical-align: middle;\n",
       "    }\n",
       "\n",
       "    .dataframe tbody tr th {\n",
       "        vertical-align: top;\n",
       "    }\n",
       "\n",
       "    .dataframe thead th {\n",
       "        text-align: right;\n",
       "    }\n",
       "</style>\n",
       "<table border=\"1\" class=\"dataframe\">\n",
       "  <thead>\n",
       "    <tr style=\"text-align: right;\">\n",
       "      <th></th>\n",
       "      <th>order_date</th>\n",
       "      <th>rider_assigned</th>\n",
       "      <th>food_picked_up</th>\n",
       "      <th>food_delivered</th>\n",
       "      <th>rider_id</th>\n",
       "      <th>vendor_id</th>\n",
       "    </tr>\n",
       "  </thead>\n",
       "  <tbody>\n",
       "    <tr>\n",
       "      <th>count</th>\n",
       "      <td>47944</td>\n",
       "      <td>47883</td>\n",
       "      <td>46364</td>\n",
       "      <td>46260</td>\n",
       "      <td>47883</td>\n",
       "      <td>47944</td>\n",
       "    </tr>\n",
       "    <tr>\n",
       "      <th>unique</th>\n",
       "      <td>47082</td>\n",
       "      <td>45276</td>\n",
       "      <td>45525</td>\n",
       "      <td>45421</td>\n",
       "      <td>447</td>\n",
       "      <td>406</td>\n",
       "    </tr>\n",
       "    <tr>\n",
       "      <th>top</th>\n",
       "      <td>2021-07-19 09:07:03</td>\n",
       "      <td>2021-07-16 12:42:08</td>\n",
       "      <td>2021-07-13 10:27:16</td>\n",
       "      <td>2021-07-14 15:22:34</td>\n",
       "      <td>b7f93e38b59f20af3456fb85d827c0d3</td>\n",
       "      <td>9d3c4307b57777be1d4923d89fe1856d</td>\n",
       "    </tr>\n",
       "    <tr>\n",
       "      <th>freq</th>\n",
       "      <td>3</td>\n",
       "      <td>8</td>\n",
       "      <td>3</td>\n",
       "      <td>3</td>\n",
       "      <td>594</td>\n",
       "      <td>1945</td>\n",
       "    </tr>\n",
       "  </tbody>\n",
       "</table>\n",
       "</div>"
      ],
      "text/plain": [
       "                 order_date       rider_assigned       food_picked_up  \\\n",
       "count                 47944                47883                46364   \n",
       "unique                47082                45276                45525   \n",
       "top     2021-07-19 09:07:03  2021-07-16 12:42:08  2021-07-13 10:27:16   \n",
       "freq                      3                    8                    3   \n",
       "\n",
       "             food_delivered                          rider_id  \\\n",
       "count                 46260                             47883   \n",
       "unique                45421                               447   \n",
       "top     2021-07-14 15:22:34  b7f93e38b59f20af3456fb85d827c0d3   \n",
       "freq                      3                               594   \n",
       "\n",
       "                               vendor_id  \n",
       "count                              47944  \n",
       "unique                               406  \n",
       "top     9d3c4307b57777be1d4923d89fe1856d  \n",
       "freq                                1945  "
      ]
     },
     "execution_count": 10,
     "metadata": {},
     "output_type": "execute_result"
    }
   ],
   "source": [
    "df.describe(include=['object'])"
   ]
  },
  {
   "cell_type": "markdown",
   "metadata": {},
   "source": [
    "Также по нечисловым признакам можно изучить распределение:"
   ]
  },
  {
   "cell_type": "code",
   "execution_count": 11,
   "metadata": {},
   "outputs": [
    {
     "data": {
      "text/plain": [
       "9d3c4307b57777be1d4923d89fe1856d    1945\n",
       "664f822c55bccff52b742f26000dde4b    1232\n",
       "f14a6286c9a5d2813c91f6c7d4864a39    1207\n",
       "554aa4cfb03c2cee2301f11518d27ed4    1180\n",
       "eb8fb38c9c319130400ea46fe70e4b87     935\n",
       "08fcff35984652544c1fced8d7890442     931\n",
       "834c264af3fdc2dba2fa77fa48b8788c     853\n",
       "3220d5811c5b78640facd3c2d37b9223     853\n",
       "4880f8a21aa5d0087f7aba4340b9d46a     771\n",
       "aaa3d0d3301d2467ea1597b831de7ee6     751\n",
       "Name: vendor_id, dtype: int64"
      ]
     },
     "execution_count": 11,
     "metadata": {},
     "output_type": "execute_result"
    }
   ],
   "source": [
    "df.vendor_id.value_counts(dropna=False)[:10]"
   ]
  },
  {
   "cell_type": "markdown",
   "metadata": {},
   "source": [
    "Информация о колонках датафрейма:"
   ]
  },
  {
   "cell_type": "code",
   "execution_count": 12,
   "metadata": {},
   "outputs": [
    {
     "name": "stdout",
     "output_type": "stream",
     "text": [
      "<class 'pandas.core.frame.DataFrame'>\n",
      "RangeIndex: 47944 entries, 0 to 47943\n",
      "Data columns (total 9 columns):\n",
      " #   Column            Non-Null Count  Dtype  \n",
      "---  ------            --------------  -----  \n",
      " 0   order_date        47944 non-null  object \n",
      " 1   rider_assigned    47883 non-null  object \n",
      " 2   food_picked_up    46364 non-null  object \n",
      " 3   food_delivered    46260 non-null  object \n",
      " 4   successful_order  47944 non-null  int64  \n",
      " 5   failed_order      47944 non-null  int64  \n",
      " 6   rider_id          47883 non-null  object \n",
      " 7   vendor_id         47944 non-null  object \n",
      " 8   price             47944 non-null  float64\n",
      "dtypes: float64(1), int64(2), object(6)\n",
      "memory usage: 3.3+ MB\n"
     ]
    }
   ],
   "source": [
    "df.info()"
   ]
  },
  {
   "cell_type": "markdown",
   "metadata": {},
   "source": [
    "В случае работы с большими датасетами занимаемая память - критичной фактор:"
   ]
  },
  {
   "cell_type": "code",
   "execution_count": 13,
   "metadata": {},
   "outputs": [
    {
     "name": "stdout",
     "output_type": "stream",
     "text": [
      "Average memory usage for float columns: 0.18 MB\n",
      "Average memory usage for int columns: 0.24 MB\n",
      "Average memory usage for object columns: 3.13 MB\n"
     ]
    }
   ],
   "source": [
    "for dtype in ['float','int','object']:\n",
    "    selected_dtype = df.select_dtypes(include=[dtype])\n",
    "    mean_usage_b = selected_dtype.memory_usage(deep=True).mean()\n",
    "    mean_usage_mb = mean_usage_b / 1024 ** 2\n",
    "    print(\"Average memory usage for {} columns: {:03.2f} MB\".format(dtype,mean_usage_mb))"
   ]
  },
  {
   "cell_type": "markdown",
   "metadata": {},
   "source": [
    "Не забываем, что мы можем закодировать колонки типа object в числовые эквиваленты, например с помощью pd.factorize."
   ]
  },
  {
   "cell_type": "markdown",
   "metadata": {},
   "source": [
    "5).Изменим тип колонок в том случае, если это необходимо."
   ]
  },
  {
   "cell_type": "code",
   "execution_count": 14,
   "metadata": {},
   "outputs": [],
   "source": [
    "df['price'] = df['price'].astype('float32')"
   ]
  },
  {
   "cell_type": "code",
   "execution_count": 15,
   "metadata": {},
   "outputs": [
    {
     "name": "stdout",
     "output_type": "stream",
     "text": [
      "<class 'pandas.core.frame.DataFrame'>\n",
      "RangeIndex: 47944 entries, 0 to 47943\n",
      "Data columns (total 9 columns):\n",
      " #   Column            Non-Null Count  Dtype  \n",
      "---  ------            --------------  -----  \n",
      " 0   order_date        47944 non-null  object \n",
      " 1   rider_assigned    47883 non-null  object \n",
      " 2   food_picked_up    46364 non-null  object \n",
      " 3   food_delivered    46260 non-null  object \n",
      " 4   successful_order  47944 non-null  int64  \n",
      " 5   failed_order      47944 non-null  int64  \n",
      " 6   rider_id          47883 non-null  object \n",
      " 7   vendor_id         47944 non-null  object \n",
      " 8   price             47944 non-null  float32\n",
      "dtypes: float32(1), int64(2), object(6)\n",
      "memory usage: 3.1+ MB\n",
      "None\n"
     ]
    }
   ],
   "source": [
    "#Обратить внимание, как изменился размер занимаемой памяти\n",
    "print(df.info())"
   ]
  },
  {
   "cell_type": "markdown",
   "metadata": {},
   "source": [
    "**Тип данных КАТЕГОРИЯ**"
   ]
  },
  {
   "cell_type": "markdown",
   "metadata": {},
   "source": [
    "Отдельный тип данных в Pandas, которому стоит уделить внимание, так как он позволяет более эффективно работать с категориальными признаками."
   ]
  },
  {
   "cell_type": "markdown",
   "metadata": {},
   "source": [
    "Что такое категориальные признаки?"
   ]
  },
  {
   "cell_type": "code",
   "execution_count": 16,
   "metadata": {},
   "outputs": [
    {
     "data": {
      "text/plain": [
       "[('order_date', 47082),\n",
       " ('rider_assigned', 45276),\n",
       " ('food_picked_up', 45525),\n",
       " ('food_delivered', 45421),\n",
       " ('successful_order', 2),\n",
       " ('failed_order', 2),\n",
       " ('rider_id', 447),\n",
       " ('vendor_id', 406),\n",
       " ('price', 1478)]"
      ]
     },
     "execution_count": 16,
     "metadata": {},
     "output_type": "execute_result"
    }
   ],
   "source": [
    "[(col, df[col].nunique()) for col in df.columns]"
   ]
  },
  {
   "cell_type": "code",
   "execution_count": 17,
   "metadata": {},
   "outputs": [
    {
     "data": {
      "text/html": [
       "<div>\n",
       "<style scoped>\n",
       "    .dataframe tbody tr th:only-of-type {\n",
       "        vertical-align: middle;\n",
       "    }\n",
       "\n",
       "    .dataframe tbody tr th {\n",
       "        vertical-align: top;\n",
       "    }\n",
       "\n",
       "    .dataframe thead th {\n",
       "        text-align: right;\n",
       "    }\n",
       "</style>\n",
       "<table border=\"1\" class=\"dataframe\">\n",
       "  <thead>\n",
       "    <tr style=\"text-align: right;\">\n",
       "      <th></th>\n",
       "      <th>Column_Name</th>\n",
       "      <th>Num_Unique</th>\n",
       "    </tr>\n",
       "  </thead>\n",
       "  <tbody>\n",
       "    <tr>\n",
       "      <th>4</th>\n",
       "      <td>successful_order</td>\n",
       "      <td>2</td>\n",
       "    </tr>\n",
       "    <tr>\n",
       "      <th>5</th>\n",
       "      <td>failed_order</td>\n",
       "      <td>2</td>\n",
       "    </tr>\n",
       "    <tr>\n",
       "      <th>7</th>\n",
       "      <td>vendor_id</td>\n",
       "      <td>406</td>\n",
       "    </tr>\n",
       "    <tr>\n",
       "      <th>6</th>\n",
       "      <td>rider_id</td>\n",
       "      <td>447</td>\n",
       "    </tr>\n",
       "    <tr>\n",
       "      <th>8</th>\n",
       "      <td>price</td>\n",
       "      <td>1478</td>\n",
       "    </tr>\n",
       "    <tr>\n",
       "      <th>1</th>\n",
       "      <td>rider_assigned</td>\n",
       "      <td>45276</td>\n",
       "    </tr>\n",
       "    <tr>\n",
       "      <th>3</th>\n",
       "      <td>food_delivered</td>\n",
       "      <td>45421</td>\n",
       "    </tr>\n",
       "    <tr>\n",
       "      <th>2</th>\n",
       "      <td>food_picked_up</td>\n",
       "      <td>45525</td>\n",
       "    </tr>\n",
       "    <tr>\n",
       "      <th>0</th>\n",
       "      <td>order_date</td>\n",
       "      <td>47082</td>\n",
       "    </tr>\n",
       "  </tbody>\n",
       "</table>\n",
       "</div>"
      ],
      "text/plain": [
       "        Column_Name  Num_Unique\n",
       "4  successful_order           2\n",
       "5      failed_order           2\n",
       "7         vendor_id         406\n",
       "6          rider_id         447\n",
       "8             price        1478\n",
       "1    rider_assigned       45276\n",
       "3    food_delivered       45421\n",
       "2    food_picked_up       45525\n",
       "0        order_date       47082"
      ]
     },
     "execution_count": 17,
     "metadata": {},
     "output_type": "execute_result"
    }
   ],
   "source": [
    "unique_counts = pd.DataFrame.from_records([(col, df[col].nunique()) for col in df.columns],\n",
    "                          columns=['Column_Name', 'Num_Unique']).sort_values(by=['Num_Unique'])\n",
    "unique_counts"
   ]
  },
  {
   "cell_type": "markdown",
   "metadata": {},
   "source": [
    "Вендор (ресторан) - отличный кандидат для категориального признака. "
   ]
  },
  {
   "cell_type": "code",
   "execution_count": 18,
   "metadata": {},
   "outputs": [],
   "source": [
    "df_with_cat = df.copy()"
   ]
  },
  {
   "cell_type": "code",
   "execution_count": 19,
   "metadata": {},
   "outputs": [],
   "source": [
    "df_with_cat['vendor_id'] = df_with_cat['vendor_id'].astype('category')"
   ]
  },
  {
   "cell_type": "markdown",
   "metadata": {},
   "source": [
    "Зачем нужны категориальные признаки в Pandas:\n",
    "\n",
    "    - позволяют более эффективно обрабатывать категориальные признаки;\n",
    "    - многие питоновские библиотеки имеют встроенные методы по работе с категориальными признаками;\n",
    "    - такие признаки занимают меньше места и также положительно сказываются на производительности."
   ]
  },
  {
   "cell_type": "code",
   "execution_count": 20,
   "metadata": {
    "scrolled": true
   },
   "outputs": [
    {
     "name": "stdout",
     "output_type": "stream",
     "text": [
      "<class 'pandas.core.frame.DataFrame'>\n",
      "RangeIndex: 47944 entries, 0 to 47943\n",
      "Data columns (total 9 columns):\n",
      " #   Column            Non-Null Count  Dtype   \n",
      "---  ------            --------------  -----   \n",
      " 0   order_date        47944 non-null  object  \n",
      " 1   rider_assigned    47883 non-null  object  \n",
      " 2   food_picked_up    46364 non-null  object  \n",
      " 3   food_delivered    46260 non-null  object  \n",
      " 4   successful_order  47944 non-null  int64   \n",
      " 5   failed_order      47944 non-null  int64   \n",
      " 6   rider_id          47883 non-null  object  \n",
      " 7   vendor_id         47944 non-null  category\n",
      " 8   price             47944 non-null  float32 \n",
      "dtypes: category(1), float32(1), int64(2), object(5)\n",
      "memory usage: 2.9+ MB\n",
      "None\n"
     ]
    }
   ],
   "source": [
    "print(df_with_cat.info())"
   ]
  },
  {
   "cell_type": "code",
   "execution_count": 21,
   "metadata": {},
   "outputs": [
    {
     "name": "stdout",
     "output_type": "stream",
     "text": [
      "2.48 ms ± 260 µs per loop (mean ± std. dev. of 7 runs, 100 loops each)\n"
     ]
    }
   ],
   "source": [
    "%%timeit\n",
    "df.groupby('vendor_id')['price'].mean().to_frame()"
   ]
  },
  {
   "cell_type": "code",
   "execution_count": 22,
   "metadata": {},
   "outputs": [
    {
     "name": "stdout",
     "output_type": "stream",
     "text": [
      "267 µs ± 54.9 µs per loop (mean ± std. dev. of 7 runs, 1,000 loops each)\n"
     ]
    }
   ],
   "source": [
    "%%timeit\n",
    "df_with_cat.groupby('vendor_id')['price'].mean().to_frame()"
   ]
  },
  {
   "cell_type": "markdown",
   "metadata": {},
   "source": [
    "Заметный прирост производительности!"
   ]
  },
  {
   "cell_type": "markdown",
   "metadata": {},
   "source": [
    "Используйте данный тип с осторожностью, всегда выполняется необходимую предобработку данных."
   ]
  },
  {
   "cell_type": "markdown",
   "metadata": {},
   "source": [
    "6).Применить к данным требуемые операции."
   ]
  },
  {
   "cell_type": "code",
   "execution_count": 23,
   "metadata": {},
   "outputs": [
    {
     "data": {
      "text/html": [
       "<div>\n",
       "<style scoped>\n",
       "    .dataframe tbody tr th:only-of-type {\n",
       "        vertical-align: middle;\n",
       "    }\n",
       "\n",
       "    .dataframe tbody tr th {\n",
       "        vertical-align: top;\n",
       "    }\n",
       "\n",
       "    .dataframe thead th {\n",
       "        text-align: right;\n",
       "    }\n",
       "</style>\n",
       "<table border=\"1\" class=\"dataframe\">\n",
       "  <thead>\n",
       "    <tr style=\"text-align: right;\">\n",
       "      <th></th>\n",
       "      <th>order_date</th>\n",
       "      <th>rider_assigned</th>\n",
       "      <th>food_picked_up</th>\n",
       "      <th>food_delivered</th>\n",
       "      <th>successful_order</th>\n",
       "      <th>failed_order</th>\n",
       "      <th>rider_id</th>\n",
       "      <th>vendor_id</th>\n",
       "      <th>price</th>\n",
       "    </tr>\n",
       "  </thead>\n",
       "  <tbody>\n",
       "    <tr>\n",
       "      <th>11454</th>\n",
       "      <td>2021-07-08 15:30:40</td>\n",
       "      <td>2021-07-08 15:31:34</td>\n",
       "      <td>2021-07-08 15:42:18</td>\n",
       "      <td>2021-07-08 15:52:01</td>\n",
       "      <td>1</td>\n",
       "      <td>0</td>\n",
       "      <td>8a9ad87687aedb90c09dad90499a3fb8</td>\n",
       "      <td>014a1b8ef4b3e615893258d810b88a96</td>\n",
       "      <td>1007.0</td>\n",
       "    </tr>\n",
       "    <tr>\n",
       "      <th>27278</th>\n",
       "      <td>2021-07-18 13:46:31</td>\n",
       "      <td>2021-07-18 13:46:59</td>\n",
       "      <td>2021-07-18 13:58:20</td>\n",
       "      <td>2021-07-18 14:04:21</td>\n",
       "      <td>1</td>\n",
       "      <td>0</td>\n",
       "      <td>3892d37cbb9196714a3c6cc9ca8d936a</td>\n",
       "      <td>014a1b8ef4b3e615893258d810b88a96</td>\n",
       "      <td>803.0</td>\n",
       "    </tr>\n",
       "  </tbody>\n",
       "</table>\n",
       "</div>"
      ],
      "text/plain": [
       "                order_date       rider_assigned       food_picked_up  \\\n",
       "11454  2021-07-08 15:30:40  2021-07-08 15:31:34  2021-07-08 15:42:18   \n",
       "27278  2021-07-18 13:46:31  2021-07-18 13:46:59  2021-07-18 13:58:20   \n",
       "\n",
       "            food_delivered  successful_order  failed_order  \\\n",
       "11454  2021-07-08 15:52:01                 1             0   \n",
       "27278  2021-07-18 14:04:21                 1             0   \n",
       "\n",
       "                               rider_id                         vendor_id  \\\n",
       "11454  8a9ad87687aedb90c09dad90499a3fb8  014a1b8ef4b3e615893258d810b88a96   \n",
       "27278  3892d37cbb9196714a3c6cc9ca8d936a  014a1b8ef4b3e615893258d810b88a96   \n",
       "\n",
       "        price  \n",
       "11454  1007.0  \n",
       "27278   803.0  "
      ]
     },
     "execution_count": 23,
     "metadata": {},
     "output_type": "execute_result"
    }
   ],
   "source": [
    "#Сортировка\n",
    "df.sort_values(by=['vendor_id', 'price'],\n",
    "                   ascending=[True, False]).head(2)"
   ]
  },
  {
   "cell_type": "code",
   "execution_count": 24,
   "metadata": {},
   "outputs": [
    {
     "data": {
      "text/html": [
       "<div>\n",
       "<style scoped>\n",
       "    .dataframe tbody tr th:only-of-type {\n",
       "        vertical-align: middle;\n",
       "    }\n",
       "\n",
       "    .dataframe tbody tr th {\n",
       "        vertical-align: top;\n",
       "    }\n",
       "\n",
       "    .dataframe thead th {\n",
       "        text-align: right;\n",
       "    }\n",
       "</style>\n",
       "<table border=\"1\" class=\"dataframe\">\n",
       "  <thead>\n",
       "    <tr style=\"text-align: right;\">\n",
       "      <th></th>\n",
       "      <th>order_date</th>\n",
       "      <th>rider_assigned</th>\n",
       "      <th>food_picked_up</th>\n",
       "      <th>food_delivered</th>\n",
       "    </tr>\n",
       "  </thead>\n",
       "  <tbody>\n",
       "    <tr>\n",
       "      <th>0</th>\n",
       "      <td>2021-07-01 08:56:13</td>\n",
       "      <td>2021-07-01 09:04:09</td>\n",
       "      <td>2021-07-01 09:17:01</td>\n",
       "      <td>2021-07-01 09:29:58</td>\n",
       "    </tr>\n",
       "    <tr>\n",
       "      <th>1</th>\n",
       "      <td>2021-07-01 10:16:07</td>\n",
       "      <td>2021-07-01 10:16:36</td>\n",
       "      <td>2021-07-01 10:49:33</td>\n",
       "      <td>2021-07-01 11:04:07</td>\n",
       "    </tr>\n",
       "    <tr>\n",
       "      <th>2</th>\n",
       "      <td>2021-07-01 13:31:18</td>\n",
       "      <td>2021-07-01 13:31:37</td>\n",
       "      <td>2021-07-01 13:50:12</td>\n",
       "      <td>2021-07-01 14:08:42</td>\n",
       "    </tr>\n",
       "    <tr>\n",
       "      <th>3</th>\n",
       "      <td>2021-07-01 10:40:13</td>\n",
       "      <td>2021-07-01 10:40:42</td>\n",
       "      <td>2021-07-01 10:57:57</td>\n",
       "      <td>2021-07-01 11:16:26</td>\n",
       "    </tr>\n",
       "    <tr>\n",
       "      <th>4</th>\n",
       "      <td>2021-07-01 15:57:40</td>\n",
       "      <td>2021-07-01 16:02:01</td>\n",
       "      <td>2021-07-01 16:18:34</td>\n",
       "      <td>2021-07-01 16:24:45</td>\n",
       "    </tr>\n",
       "    <tr>\n",
       "      <th>...</th>\n",
       "      <td>...</td>\n",
       "      <td>...</td>\n",
       "      <td>...</td>\n",
       "      <td>...</td>\n",
       "    </tr>\n",
       "    <tr>\n",
       "      <th>47939</th>\n",
       "      <td>2021-07-30 06:55:05</td>\n",
       "      <td>2021-07-30 06:55:38</td>\n",
       "      <td>2021-07-30 07:12:39</td>\n",
       "      <td>2021-07-30 07:21:34</td>\n",
       "    </tr>\n",
       "    <tr>\n",
       "      <th>47940</th>\n",
       "      <td>2021-07-30 17:01:13</td>\n",
       "      <td>2021-07-30 17:01:23</td>\n",
       "      <td>2021-07-30 17:24:30</td>\n",
       "      <td>2021-07-30 17:27:21</td>\n",
       "    </tr>\n",
       "    <tr>\n",
       "      <th>47941</th>\n",
       "      <td>2021-07-30 16:57:59</td>\n",
       "      <td>2021-07-30 16:59:21</td>\n",
       "      <td>2021-07-30 17:09:21</td>\n",
       "      <td>2021-07-30 17:25:56</td>\n",
       "    </tr>\n",
       "    <tr>\n",
       "      <th>47942</th>\n",
       "      <td>2021-07-30 11:33:57</td>\n",
       "      <td>2021-07-30 11:34:08</td>\n",
       "      <td>2021-07-30 11:44:22</td>\n",
       "      <td>2021-07-30 11:47:40</td>\n",
       "    </tr>\n",
       "    <tr>\n",
       "      <th>47943</th>\n",
       "      <td>2021-07-30 17:05:13</td>\n",
       "      <td>2021-07-30 17:05:20</td>\n",
       "      <td>NaN</td>\n",
       "      <td>NaN</td>\n",
       "    </tr>\n",
       "  </tbody>\n",
       "</table>\n",
       "<p>47944 rows × 4 columns</p>\n",
       "</div>"
      ],
      "text/plain": [
       "                order_date       rider_assigned       food_picked_up  \\\n",
       "0      2021-07-01 08:56:13  2021-07-01 09:04:09  2021-07-01 09:17:01   \n",
       "1      2021-07-01 10:16:07  2021-07-01 10:16:36  2021-07-01 10:49:33   \n",
       "2      2021-07-01 13:31:18  2021-07-01 13:31:37  2021-07-01 13:50:12   \n",
       "3      2021-07-01 10:40:13  2021-07-01 10:40:42  2021-07-01 10:57:57   \n",
       "4      2021-07-01 15:57:40  2021-07-01 16:02:01  2021-07-01 16:18:34   \n",
       "...                    ...                  ...                  ...   \n",
       "47939  2021-07-30 06:55:05  2021-07-30 06:55:38  2021-07-30 07:12:39   \n",
       "47940  2021-07-30 17:01:13  2021-07-30 17:01:23  2021-07-30 17:24:30   \n",
       "47941  2021-07-30 16:57:59  2021-07-30 16:59:21  2021-07-30 17:09:21   \n",
       "47942  2021-07-30 11:33:57  2021-07-30 11:34:08  2021-07-30 11:44:22   \n",
       "47943  2021-07-30 17:05:13  2021-07-30 17:05:20                  NaN   \n",
       "\n",
       "            food_delivered  \n",
       "0      2021-07-01 09:29:58  \n",
       "1      2021-07-01 11:04:07  \n",
       "2      2021-07-01 14:08:42  \n",
       "3      2021-07-01 11:16:26  \n",
       "4      2021-07-01 16:24:45  \n",
       "...                    ...  \n",
       "47939  2021-07-30 07:21:34  \n",
       "47940  2021-07-30 17:27:21  \n",
       "47941  2021-07-30 17:25:56  \n",
       "47942  2021-07-30 11:47:40  \n",
       "47943                  NaN  \n",
       "\n",
       "[47944 rows x 4 columns]"
      ]
     },
     "execution_count": 24,
     "metadata": {},
     "output_type": "execute_result"
    }
   ],
   "source": [
    "#Извлечение данных\n",
    "df.iloc[:,0:4]"
   ]
  },
  {
   "cell_type": "code",
   "execution_count": 25,
   "metadata": {},
   "outputs": [
    {
     "data": {
      "text/plain": [
       "643.75"
      ]
     },
     "execution_count": 25,
     "metadata": {},
     "output_type": "execute_result"
    }
   ],
   "source": [
    "df[df['vendor_id'] == '014a1b8ef4b3e615893258d810b88a96']['price'].mean()"
   ]
  },
  {
   "cell_type": "code",
   "execution_count": 26,
   "metadata": {},
   "outputs": [
    {
     "data": {
      "text/plain": [
       "367.0"
      ]
     },
     "execution_count": 26,
     "metadata": {},
     "output_type": "execute_result"
    }
   ],
   "source": [
    "df[df['vendor_id'] == '014a1b8ef4b3e615893258d810b88a96']['price'].min()"
   ]
  },
  {
   "cell_type": "markdown",
   "metadata": {},
   "source": [
    "### Группировка данных"
   ]
  },
  {
   "cell_type": "code",
   "execution_count": 27,
   "metadata": {},
   "outputs": [
    {
     "data": {
      "text/plain": [
       "vendor_id\n",
       "014a1b8ef4b3e615893258d810b88a96    1007.0\n",
       "014ca478889f2f66363eb8cbdf832516    1371.0\n",
       "0172ff8832b405b53761303d86df2a86    1689.0\n",
       "01b0bef321650ae048605b203c8efa1f    1686.0\n",
       "020ed7abb2b318c3d7aa98f50e7185fb     603.0\n",
       "                                     ...  \n",
       "fc08409966f5f5a27ad9b9846c6fe7e4    1690.0\n",
       "fd0da4aea5306c25014761df6c475db9    1699.0\n",
       "fd4dc3cc70d25a8ed11303eae34ca89f    1479.0\n",
       "fde4b2502012e38506485ecfad48aa02    1697.0\n",
       "ff6609fc0bf8b3824811a4ae7d431fd6    1684.0\n",
       "Name: price, Length: 406, dtype: float32"
      ]
     },
     "execution_count": 27,
     "metadata": {},
     "output_type": "execute_result"
    }
   ],
   "source": [
    "#Группировка данных\n",
    "#df.groupby(by=grouping_columns)[columns_to_show].function()\n",
    "\n",
    "df.groupby(by = 'vendor_id')['price'].max()"
   ]
  },
  {
   "cell_type": "code",
   "execution_count": 28,
   "metadata": {},
   "outputs": [
    {
     "data": {
      "text/html": [
       "<div>\n",
       "<style scoped>\n",
       "    .dataframe tbody tr th:only-of-type {\n",
       "        vertical-align: middle;\n",
       "    }\n",
       "\n",
       "    .dataframe tbody tr th {\n",
       "        vertical-align: top;\n",
       "    }\n",
       "\n",
       "    .dataframe thead th {\n",
       "        text-align: right;\n",
       "    }\n",
       "</style>\n",
       "<table border=\"1\" class=\"dataframe\">\n",
       "  <thead>\n",
       "    <tr style=\"text-align: right;\">\n",
       "      <th></th>\n",
       "      <th>mean</th>\n",
       "      <th>std</th>\n",
       "      <th>amin</th>\n",
       "      <th>amax</th>\n",
       "    </tr>\n",
       "    <tr>\n",
       "      <th>vendor_id</th>\n",
       "      <th></th>\n",
       "      <th></th>\n",
       "      <th></th>\n",
       "      <th></th>\n",
       "    </tr>\n",
       "  </thead>\n",
       "  <tbody>\n",
       "    <tr>\n",
       "      <th>014a1b8ef4b3e615893258d810b88a96</th>\n",
       "      <td>643.750</td>\n",
       "      <td>313.206</td>\n",
       "      <td>367.0</td>\n",
       "      <td>1007.0</td>\n",
       "    </tr>\n",
       "    <tr>\n",
       "      <th>014ca478889f2f66363eb8cbdf832516</th>\n",
       "      <td>865.778</td>\n",
       "      <td>344.374</td>\n",
       "      <td>521.0</td>\n",
       "      <td>1371.0</td>\n",
       "    </tr>\n",
       "    <tr>\n",
       "      <th>0172ff8832b405b53761303d86df2a86</th>\n",
       "      <td>880.500</td>\n",
       "      <td>440.033</td>\n",
       "      <td>276.0</td>\n",
       "      <td>1689.0</td>\n",
       "    </tr>\n",
       "    <tr>\n",
       "      <th>01b0bef321650ae048605b203c8efa1f</th>\n",
       "      <td>902.191</td>\n",
       "      <td>428.784</td>\n",
       "      <td>238.0</td>\n",
       "      <td>1686.0</td>\n",
       "    </tr>\n",
       "    <tr>\n",
       "      <th>020ed7abb2b318c3d7aa98f50e7185fb</th>\n",
       "      <td>603.000</td>\n",
       "      <td>NaN</td>\n",
       "      <td>603.0</td>\n",
       "      <td>603.0</td>\n",
       "    </tr>\n",
       "    <tr>\n",
       "      <th>...</th>\n",
       "      <td>...</td>\n",
       "      <td>...</td>\n",
       "      <td>...</td>\n",
       "      <td>...</td>\n",
       "    </tr>\n",
       "    <tr>\n",
       "      <th>fc08409966f5f5a27ad9b9846c6fe7e4</th>\n",
       "      <td>970.137</td>\n",
       "      <td>414.358</td>\n",
       "      <td>227.0</td>\n",
       "      <td>1690.0</td>\n",
       "    </tr>\n",
       "    <tr>\n",
       "      <th>fd0da4aea5306c25014761df6c475db9</th>\n",
       "      <td>953.233</td>\n",
       "      <td>438.216</td>\n",
       "      <td>225.0</td>\n",
       "      <td>1699.0</td>\n",
       "    </tr>\n",
       "    <tr>\n",
       "      <th>fd4dc3cc70d25a8ed11303eae34ca89f</th>\n",
       "      <td>802.333</td>\n",
       "      <td>506.463</td>\n",
       "      <td>258.0</td>\n",
       "      <td>1479.0</td>\n",
       "    </tr>\n",
       "    <tr>\n",
       "      <th>fde4b2502012e38506485ecfad48aa02</th>\n",
       "      <td>1001.422</td>\n",
       "      <td>422.657</td>\n",
       "      <td>231.0</td>\n",
       "      <td>1697.0</td>\n",
       "    </tr>\n",
       "    <tr>\n",
       "      <th>ff6609fc0bf8b3824811a4ae7d431fd6</th>\n",
       "      <td>974.931</td>\n",
       "      <td>427.394</td>\n",
       "      <td>244.0</td>\n",
       "      <td>1684.0</td>\n",
       "    </tr>\n",
       "  </tbody>\n",
       "</table>\n",
       "<p>406 rows × 4 columns</p>\n",
       "</div>"
      ],
      "text/plain": [
       "                                      mean      std   amin    amax\n",
       "vendor_id                                                         \n",
       "014a1b8ef4b3e615893258d810b88a96   643.750  313.206  367.0  1007.0\n",
       "014ca478889f2f66363eb8cbdf832516   865.778  344.374  521.0  1371.0\n",
       "0172ff8832b405b53761303d86df2a86   880.500  440.033  276.0  1689.0\n",
       "01b0bef321650ae048605b203c8efa1f   902.191  428.784  238.0  1686.0\n",
       "020ed7abb2b318c3d7aa98f50e7185fb   603.000      NaN  603.0   603.0\n",
       "...                                    ...      ...    ...     ...\n",
       "fc08409966f5f5a27ad9b9846c6fe7e4   970.137  414.358  227.0  1690.0\n",
       "fd0da4aea5306c25014761df6c475db9   953.233  438.216  225.0  1699.0\n",
       "fd4dc3cc70d25a8ed11303eae34ca89f   802.333  506.463  258.0  1479.0\n",
       "fde4b2502012e38506485ecfad48aa02  1001.422  422.657  231.0  1697.0\n",
       "ff6609fc0bf8b3824811a4ae7d431fd6   974.931  427.394  244.0  1684.0\n",
       "\n",
       "[406 rows x 4 columns]"
      ]
     },
     "execution_count": 28,
     "metadata": {},
     "output_type": "execute_result"
    }
   ],
   "source": [
    "df.groupby(by = 'vendor_id')['price'].agg([np.mean, np.std, np.min, np.max])"
   ]
  },
  {
   "cell_type": "code",
   "execution_count": 29,
   "metadata": {},
   "outputs": [
    {
     "data": {
      "text/html": [
       "<div>\n",
       "<style scoped>\n",
       "    .dataframe tbody tr th:only-of-type {\n",
       "        vertical-align: middle;\n",
       "    }\n",
       "\n",
       "    .dataframe tbody tr th {\n",
       "        vertical-align: top;\n",
       "    }\n",
       "\n",
       "    .dataframe thead th {\n",
       "        text-align: right;\n",
       "    }\n",
       "</style>\n",
       "<table border=\"1\" class=\"dataframe\">\n",
       "  <thead>\n",
       "    <tr style=\"text-align: right;\">\n",
       "      <th></th>\n",
       "      <th>vendor_id</th>\n",
       "      <th>price</th>\n",
       "    </tr>\n",
       "  </thead>\n",
       "  <tbody>\n",
       "    <tr>\n",
       "      <th>0</th>\n",
       "      <td>014a1b8ef4b3e615893258d810b88a96</td>\n",
       "      <td>643.750</td>\n",
       "    </tr>\n",
       "    <tr>\n",
       "      <th>1</th>\n",
       "      <td>014ca478889f2f66363eb8cbdf832516</td>\n",
       "      <td>865.778</td>\n",
       "    </tr>\n",
       "    <tr>\n",
       "      <th>2</th>\n",
       "      <td>0172ff8832b405b53761303d86df2a86</td>\n",
       "      <td>880.500</td>\n",
       "    </tr>\n",
       "    <tr>\n",
       "      <th>3</th>\n",
       "      <td>01b0bef321650ae048605b203c8efa1f</td>\n",
       "      <td>902.191</td>\n",
       "    </tr>\n",
       "    <tr>\n",
       "      <th>4</th>\n",
       "      <td>020ed7abb2b318c3d7aa98f50e7185fb</td>\n",
       "      <td>603.000</td>\n",
       "    </tr>\n",
       "    <tr>\n",
       "      <th>...</th>\n",
       "      <td>...</td>\n",
       "      <td>...</td>\n",
       "    </tr>\n",
       "    <tr>\n",
       "      <th>401</th>\n",
       "      <td>fc08409966f5f5a27ad9b9846c6fe7e4</td>\n",
       "      <td>970.137</td>\n",
       "    </tr>\n",
       "    <tr>\n",
       "      <th>402</th>\n",
       "      <td>fd0da4aea5306c25014761df6c475db9</td>\n",
       "      <td>953.233</td>\n",
       "    </tr>\n",
       "    <tr>\n",
       "      <th>403</th>\n",
       "      <td>fd4dc3cc70d25a8ed11303eae34ca89f</td>\n",
       "      <td>802.333</td>\n",
       "    </tr>\n",
       "    <tr>\n",
       "      <th>404</th>\n",
       "      <td>fde4b2502012e38506485ecfad48aa02</td>\n",
       "      <td>1001.422</td>\n",
       "    </tr>\n",
       "    <tr>\n",
       "      <th>405</th>\n",
       "      <td>ff6609fc0bf8b3824811a4ae7d431fd6</td>\n",
       "      <td>974.931</td>\n",
       "    </tr>\n",
       "  </tbody>\n",
       "</table>\n",
       "<p>406 rows × 2 columns</p>\n",
       "</div>"
      ],
      "text/plain": [
       "                            vendor_id     price\n",
       "0    014a1b8ef4b3e615893258d810b88a96   643.750\n",
       "1    014ca478889f2f66363eb8cbdf832516   865.778\n",
       "2    0172ff8832b405b53761303d86df2a86   880.500\n",
       "3    01b0bef321650ae048605b203c8efa1f   902.191\n",
       "4    020ed7abb2b318c3d7aa98f50e7185fb   603.000\n",
       "..                                ...       ...\n",
       "401  fc08409966f5f5a27ad9b9846c6fe7e4   970.137\n",
       "402  fd0da4aea5306c25014761df6c475db9   953.233\n",
       "403  fd4dc3cc70d25a8ed11303eae34ca89f   802.333\n",
       "404  fde4b2502012e38506485ecfad48aa02  1001.422\n",
       "405  ff6609fc0bf8b3824811a4ae7d431fd6   974.931\n",
       "\n",
       "[406 rows x 2 columns]"
      ]
     },
     "execution_count": 29,
     "metadata": {},
     "output_type": "execute_result"
    }
   ],
   "source": [
    "#Получить из Серии - Датафрейм\n",
    "df.groupby(by = 'vendor_id')['price'].mean().reset_index()"
   ]
  }
 ],
 "metadata": {
  "kernelspec": {
   "display_name": "Python 3 (ipykernel)",
   "language": "python",
   "name": "python3"
  },
  "language_info": {
   "codemirror_mode": {
    "name": "ipython",
    "version": 3
   },
   "file_extension": ".py",
   "mimetype": "text/x-python",
   "name": "python",
   "nbconvert_exporter": "python",
   "pygments_lexer": "ipython3",
   "version": "3.8.15"
  }
 },
 "nbformat": 4,
 "nbformat_minor": 2
}
